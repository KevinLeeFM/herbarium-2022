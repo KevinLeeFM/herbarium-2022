{
 "cells": [
  {
   "cell_type": "code",
   "metadata": {
    "cell_id": "72a4cad67a474a6a8963b8efe2dd92e1",
    "tags": [],
    "deepnote_to_be_reexecuted": false,
    "source_hash": "866bf760",
    "execution_start": 1649521909192,
    "execution_millis": 2153,
    "owner_user_id": "936eb0aa-03ca-4152-ac6e-ea9f3d0f9c5e",
    "deepnote_cell_type": "code",
    "deepnote_cell_height": 315.890625
   },
   "source": "import torch\nimport torch.nn as nn\nimport torch.nn.functional as F\nfrom torch import optim\nimport pandas as pd\nimport numpy as np\nfrom tqdm import tqdm\nfrom tensorboardX import SummaryWriter\nfrom timm.utils import AverageMeter\nfrom sklearn.model_selection import KFold\nfrom models.vgg import vgg",
   "execution_count": null,
   "outputs": [
    {
     "name": "stderr",
     "text": "/shared-libs/python3.7/py/lib/python3.7/site-packages/tqdm/auto.py:22: TqdmWarning: IProgress not found. Please update jupyter and ipywidgets. See https://ipywidgets.readthedocs.io/en/stable/user_install.html\n  from .autonotebook import tqdm as notebook_tqdm\n",
     "output_type": "stream"
    }
   ]
  },
  {
   "cell_type": "code",
   "metadata": {
    "cell_id": "03d783f1ecf94e2381fbbbde964ff1bf",
    "tags": [],
    "deepnote_to_be_reexecuted": false,
    "source_hash": "d56e62bd",
    "execution_start": 1649521911353,
    "execution_millis": 2015,
    "deepnote_cell_type": "code",
    "deepnote_cell_height": 417.1875,
    "deepnote_output_heights": [
     21.1875,
     250
    ]
   },
   "source": "data = pd.read_csv(\"/work/herbarium-2022/data/train_cultivar_mapping.csv\")\ndata.cultivar.value_counts().hist()",
   "execution_count": null,
   "outputs": [
    {
     "output_type": "execute_result",
     "execution_count": 2,
     "data": {
      "text/plain": "<AxesSubplot:>"
     },
     "metadata": {}
    },
    {
     "data": {
      "text/plain": "<Figure size 432x288 with 1 Axes>",
      "image/png": "[encoded data removed]"
     },
     "metadata": {
      "needs_background": "light",
      "image/png": {
       "width": 368,
       "height": 248
      }
     },
     "output_type": "display_data"
    }
   ]
  },
  {
   "cell_type": "code",
   "metadata": {
    "cell_id": "a8fd55b94e6e4ca6b969acff835a3bd4",
    "tags": [],
    "deepnote_to_be_reexecuted": false,
    "source_hash": "9e7ddcde",
    "execution_start": 1649521912883,
    "execution_millis": 4,
    "deepnote_cell_type": "code",
    "deepnote_cell_height": 819
   },
   "source": "import os\nimport pandas as pd\nimport torch\nfrom torch.utils.data import Dataset, DataLoader, ConcatDataset\nfrom torchvision.io import read_image\nfrom torchvision.transforms.functional import convert_image_dtype\nfrom sklearn import preprocessing\n\nclass CultivarDataset(Dataset):\n    def __init__(self, annotations_file, img_dir, transform=None, target_transform=None):\n        self.img_labels = pd.read_csv(annotations_file, )\n        self.img_dir = img_dir\n        self.transform = transform\n        self.target_transform = target_transform\n\n        # one-hot encoding (very messy)\n        self.onehotenc = preprocessing.OneHotEncoder()\n        self.onehotenc.fit([[i] for i in self.img_labels['cultivar'].tolist()])\n\n        # bablaba = self.onehotenc.transform([['PI_329299']]).toarray()\n        # print(f'Size of one-hot column {len(bablaba[0])}')\n    \n    def to_onehot(self, lbl: str):\n        return torch.from_numpy(self.onehotenc.transform([[lbl]]).toarray()[0])\n\n    def __len__(self):\n        # print(f'length: {len(self.img_labels)}')\n        return len(self.img_labels)\n\n    def __getitem__(self, idx):\n        # print(f'sampling: {idx}')\n        img_path = os.path.join(self.img_dir, str(self.img_labels.iloc[idx, 0]))\n\n        # NOTE: when pytorch reads an image, it is immediately transformed into a uint8 Tensor with each channel ranging in [0, 255]\n        image = read_image(img_path)\n        label = self.to_onehot(self.img_labels.iloc[idx, 1])\n        if self.transform:\n            image = self.transform(image)\n        if self.target_transform:\n            label = self.target_transform(label)\n        # print(image, label)\n        return image, label",
   "execution_count": null,
   "outputs": []
  },
  {
   "cell_type": "code",
   "metadata": {
    "cell_id": "48f266d936ec456eab2188586817ba7b",
    "tags": [],
    "deepnote_to_be_reexecuted": false,
    "source_hash": "a408fff5",
    "execution_start": 1649521912891,
    "execution_millis": 6,
    "deepnote_cell_type": "code",
    "deepnote_cell_height": 423
   },
   "source": "import torchvision.transforms as T\n\n# mean and std of each color channel\n# below is that of imagenet \nnorm_mean = [0.485, 0.456, 0.406]\nnorm_std = [0.229, 0.224, 0.225]\n\ntraining_data = CultivarDataset(\n    annotations_file=\"data/train_cultivar_mapping.csv\",\n    img_dir=\"data/train_images\",\n    transform=T.Compose([\n        T.RandomEqualize(p=1), # if only this can be done AFTER the crop\n        T.ConvertImageDtype(torch.float), # we are given uint8 tensor, but we need a float tensor\n        # T.ColorJitter(brightness=.5, contrast=.7),\n        T.RandomCrop(size=(500, 500)),\n        T.RandomRotation(degrees=(-180, 180)),\n        T.CenterCrop(size=(224, 224)),\n        T.Normalize(norm_mean, norm_std)\n    ])\n)",
   "execution_count": null,
   "outputs": []
  },
  {
   "cell_type": "markdown",
   "source": "Notes on Hyperparameter:\n- https://arxiv.org/pdf/1803.09820.pdf\n- Momentum is usually always 0.9",
   "metadata": {
    "cell_id": "6c81b79fcb8d41ad8a8b2da78fedc581",
    "tags": [],
    "deepnote_cell_type": "markdown",
    "deepnote_cell_height": 128.1875
   }
  },
  {
   "cell_type": "code",
   "metadata": {
    "cell_id": "59ffcb1a3c8d4286929c5bed623f1ef3",
    "tags": [],
    "deepnote_to_be_reexecuted": false,
    "source_hash": "7fb521b7",
    "execution_start": 1649521912901,
    "execution_millis": 3,
    "deepnote_cell_type": "code",
    "deepnote_cell_height": 171
   },
   "source": "# Hyperparameters\nlr = 1e-3\nmomentum = 0.9\nweight_decay = 1e-4\nepoches = 100\nk_fold = 10",
   "execution_count": null,
   "outputs": []
  },
  {
   "cell_type": "code",
   "metadata": {
    "cell_id": "a265a199d592409596bf3e9d9ba1d098",
    "tags": [],
    "deepnote_to_be_reexecuted": false,
    "source_hash": "d5d46ad0",
    "execution_start": 1649521912907,
    "execution_millis": 3,
    "deepnote_cell_type": "code",
    "deepnote_cell_height": 207
   },
   "source": "def set_random_seed(seed):\n    random.seed(seed)\n    np.random.seed(seed)\n    torch.manual_seed(seed)\n    torch.cuda.manual_seed_all(seed)\n    if deterministic:\n        torch.backends.cudnn.deterministic = True\n        torch.backends.cudnn.benchmark = False",
   "execution_count": null,
   "outputs": []
  },
  {
   "cell_type": "code",
   "metadata": {
    "cell_id": "1aeb7f5bf8cb4319a11ac7d5e49d22a1",
    "tags": [],
    "deepnote_to_be_reexecuted": false,
    "source_hash": "22459c33",
    "execution_start": 1649521912915,
    "execution_millis": 3,
    "deepnote_cell_type": "code",
    "deepnote_cell_height": 405
   },
   "source": "def cultivar_train(model, data_loader_train, optimizer, criterion, epoch):\n    model.train()\n    optimizer.zero_grad()\n\n    loss_meter = AverageMeter()\n\n    with tqdm(enumerate(data_loader_train), total=len(data_loader_train)) as pbar:\n        for idx, (samples, targets) in enumerate(data_loader_train):\n            samples = samples.cuda()\n            targets = targets.cuda()\n            out = model(samples)\n            pred = F.softmax(out)\n            loss = criterion(pred, targets)\n            optimizer.zero_grad()\n            loss.backward()\n            optimizer.step()\n            loss_meter.update(loss.item(), target.size(0))\n            pbar.set_description(f\"Train epoch {epoch}, loss: {loss_meter.avg: .4f}\")\n    return loss_meter.avg",
   "execution_count": null,
   "outputs": []
  },
  {
   "cell_type": "code",
   "metadata": {
    "cell_id": "bcc3e30f93e54e51bc95d8540a011cd5",
    "tags": [],
    "deepnote_to_be_reexecuted": false,
    "source_hash": "ba38b83b",
    "execution_start": 1649521912926,
    "execution_millis": 1,
    "owner_user_id": "9d557d55-fc23-4c8b-b1ac-104ba3539c98",
    "deepnote_cell_type": "code",
    "deepnote_cell_height": 315
   },
   "source": "def cultivar_val(model, data_loader_val, criterion, epoch):\n    model.eval()\n    loss_meter = AverageMeter()\n    with tqdm(enumerate(data_loader_train), total=len(data_loader_train)) as pbar:\n        for idx, (samples, targets) in enumerate(data_loader_val):\n            samples = samples.cuda()\n            targets = targets.cuda()\n            out = model(samples)\n            pred = F.softmax(out)\n            loss = criterion(pred, targets)\n            loss_meter.update(loss.item(), target.size(0))\n\n            pbar.set_description(f\"Validation epoch {epoch}, loss: {loss_meter.avg: .4f}\")\n    return loss_meter.avg",
   "execution_count": null,
   "outputs": []
  },
  {
   "cell_type": "markdown",
   "source": "You need to run the `test.csv` and `train.csv` generation in `cultivardataset.ipynb` before running this!",
   "metadata": {
    "cell_id": "dbb4d78484384a12a9387ed5dcc29138",
    "tags": [],
    "deepnote_cell_type": "markdown",
    "deepnote_cell_height": 52.390625
   }
  },
  {
   "cell_type": "markdown",
   "source": "\nThe general procedure of k-fold is as follows:\n\n- Shuffle the dataset randomly.\n- Split the dataset into k groups\n- For each unique group:\n    - Take the group as a hold out or test data set\n    - Take the remaining groups as a training data set\n    - Fit a model on the training set and evaluate it on the test set\n    - Retain the evaluation score and discard the model\n- Summarize the skill of the model using the sample of model evaluation scores",
   "metadata": {
    "cell_id": "faa145078b8e4310a91a836096674b3b",
    "tags": [],
    "deepnote_cell_type": "markdown",
    "deepnote_cell_height": 291.578125
   }
  },
  {
   "cell_type": "code",
   "metadata": {
    "cell_id": "ff1ea3ad5e9948bab7a708038e5fbdf2",
    "tags": [],
    "deepnote_to_be_reexecuted": false,
    "source_hash": "68be699a",
    "execution_start": 1649521912977,
    "execution_millis": 7795,
    "deepnote_cell_type": "code",
    "deepnote_cell_height": 1941.84375,
    "deepnote_output_heights": [
     null,
     40.390625
    ]
   },
   "source": "# set_random_seed(seed=0)\nprint(\"Creating datasets...\")\ndataset = CultivarDataset(\n    annotations_file=\"data/train_metadata_subset.csv\",\n    img_dir=\"data/train_images\",\n    transform=T.Compose([\n        T.RandomEqualize(p=1),\n        T.ConvertImageDtype(torch.float), # we are given uint8 tensor, but we need a float tensor\n        # T.ColorJitter(brightness=.5, contrast=.7),\n        T.RandomCrop(size=(500, 500)),\n        T.RandomRotation(degrees=(-180, 180)),\n        T.CenterCrop(size=(224, 224)),\n        T.Normalize(norm_mean, norm_std)\n    ])\n)\n\n# dataset_val = CultivarDataset(\n#     annotations_file=\"data/test.csv\",\n#     img_dir=\"data/train_images\",\n#     transform=T.Compose([\n#         T.ConvertImageDtype(torch.float), # we are given uint8 tensor, but we need a float tensor\n#         # T.ColorJitter(brightness=.5, contrast=.7),\n#         T.CenterCrop(size=(224, 224)),\n#         T.Normalize(norm_mean, norm_std)\n#     ])\n# )\n\nsummary_writer = SummaryWriter()\nk_min_loss = [float('inf')]*k_fold\n\nkfold = KFold(n_splits=k_fold, shuffle=True)\n\nfor fold, (train_ids, test_ids) in enumerate(kfold.split(dataset)):\n    # Print\n    print(f'FOLD {fold}')\n    print('--------------------------------')\n    \n    # Sample elements randomly from a given list of ids, no replacement.\n    train_subsampler = torch.utils.data.SubsetRandomSampler(train_ids)\n    test_subsampler = torch.utils.data.SubsetRandomSampler(test_ids)\n\n\n    print(\"Validation dataset created\")\n    data_loader_train = torch.utils.data.DataLoader(\n        dataset,\n        batch_size = 32,\n        sampler = train_subsampler,\n        shuffle = False,\n        num_workers = 0,\n        pin_memory = True,\n        drop_last = True\n    )\n    data_loader_val = torch.utils.data.DataLoader(\n        dataset,\n        batch_size = 32,\n        sampler = test_subsampler,\n        shuffle = False,\n        num_workers = 0,\n        pin_memory = True,\n        drop_last = False\n    )\n\n    print(\"Dataloader created\")\n    print(\"Creating model...\")\n    model = vgg(\"vgg19_bn\", \"E\", 100, True, True)\n    model.cuda()\n    optimizer = optim.SGD(model.parameters(), momentum=momentum, nesterov=True, lr=lr, weight_decay=weight_decay)\n    criterion = nn.CrossEntropyLoss()\n\n    min_loss = float('inf')\n\n    print(\"Start Training\")\n    for epoch in range(epoches):\n        loss_train = cultivar_train(model, data_loader_train, optimizer, criterion, epoch)\n        loss_val = cultivar_val(model, data_loader_val, criterion, epoch)\n        min_loss = min(min_loss, loss_val)\n        print(\"Writing to summarywriter...\")\n        summary_writer.add_scalar(f'Fold {fold}, loss/train', loss_train, epoch)\n        summary_writer.add_scalar(f'Fold {fold}, loss/val', loss_val, epoch)\n        summary_writer.add_scalar(f'Fold {fold}, min_loss', min_loss, epoch)\n        if min_loss == loss_val:\n            k_min_loss[fold] = min_loss\n\nprint(f\"K fold cross validate min loss average {sum(k_min_loss)/len(k_min_loss)}\")",
   "execution_count": null,
   "outputs": [
    {
     "name": "stdout",
     "text": "Creating datasets...\nFOLD 0\n--------------------------------\nValidation dataset created\nDataloader created\nCreating model...\n| Downloading ImageNet fine-tuned vgg19_bn...\nStart Training\n  0%|          | 0/4 [00:00<?, ?it/s]",
     "output_type": "stream"
    },
    {
     "output_type": "error",
     "ename": "KernelInterrupted",
     "evalue": "Execution interrupted by the Jupyter kernel.",
     "traceback": [
      "\u001b[0;31m---------------------------------------------------------------------------\u001b[0m",
      "\u001b[0;31mKernelInterrupted\u001b[0m: Execution interrupted by the Jupyter kernel."
     ]
    }
   ]
  },
  {
   "cell_type": "markdown",
   "source": "<a style='text-decoration:none;line-height:16px;display:flex;color:#5B5B62;padding:10px;justify-content:end;' href='https://deepnote.com?utm_source=created-in-deepnote-cell&projectId=d841b2e3-7f2f-42e6-ae8e-6cea1c0a3631' target=\"_blank\">\n<img alt='Created in deepnote.com' style='display:inline;max-height:16px;margin:0px;margin-right:7.5px;' src='data:image/svg+xml;base64,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' > </img>\nCreated in <span style='font-weight:600;margin-left:4px;'>Deepnote</span></a>",
   "metadata": {
    "tags": [],
    "created_in_deepnote_cell": true,
    "deepnote_cell_type": "markdown"
   }
  }
 ],
 "nbformat": 4,
 "nbformat_minor": 4,
 "metadata": {
  "kernelspec": {
   "language": "python",
   "display_name": "Python 3",
   "name": "python3"
  },
  "language_info": {
   "pygments_lexer": "ipython3",
   "nbconvert_exporter": "python",
   "version": "3.6.4",
   "file_extension": ".py",
   "codemirror_mode": {
    "name": "ipython",
    "version": 3
   },
   "name": "python",
   "mimetype": "text/x-python"
  },
  "deepnote_notebook_id": "e5052fa5-ca58-4361-95d9-8ba886cd66d2",
  "deepnote": {},
  "deepnote_execution_queue": []
 }
}