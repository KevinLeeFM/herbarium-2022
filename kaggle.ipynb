{
 "cells": [
  {
   "cell_type": "markdown",
   "metadata": {},
   "source": [
    "# Herbarium 2022 - FGVC9\n",
    "\n",
    "We will begin by importing files one-by-one from the competition\n",
    "\n",
    "Reference: https://technowhisp.com/kaggle-api-python-documentation/"
   ]
  },
  {
   "cell_type": "code",
   "execution_count": 41,
   "metadata": {},
   "outputs": [
    {
     "name": "stdout",
     "output_type": "stream",
     "text": [
      "herbarium-2022-fgvc9,Knowledge,None\n"
     ]
    }
   ],
   "source": [
    "from kaggle.api.kaggle_api_extended import KaggleApi\n",
    "\n",
    "api = KaggleApi()\n",
    "api.authenticate()\n",
    "\n",
    "# get the competition\n",
    "comp = api.competitions_list(search='herbarium-2022-fgvc9')[0]\n",
    "\n",
    "print(comp.ref,comp.reward,comp.userRank,sep=',')"
   ]
  },
  {
   "cell_type": "markdown",
   "metadata": {},
   "source": [
    "Format of a file"
   ]
  },
  {
   "cell_type": "code",
   "execution_count": 42,
   "metadata": {},
   "outputs": [
    {
     "data": {
      "text/plain": [
       "{'ref': 'test_images/011/test-011011.jpg',\n",
       " 'name': 'test_images/011/test-011011.jpg',\n",
       " 'description': None,\n",
       " 'totalBytes': 187759,\n",
       " 'url': 'https://www.kaggle.com/',\n",
       " 'creationDate': '2022-02-09T18:21:23.6689119Z'}"
      ]
     },
     "execution_count": 42,
     "metadata": {},
     "output_type": "execute_result"
    }
   ],
   "source": [
    "filelist = api.competitions_data_list_files(comp.ref)\n",
    "filelist[0]"
   ]
  },
  {
   "cell_type": "code",
   "execution_count": 43,
   "metadata": {},
   "outputs": [
    {
     "name": "stdout",
     "output_type": "stream",
     "text": [
      "00811__005.jpg: Skipping, found more recently modified local copy (use --force to force download)\n"
     ]
    }
   ],
   "source": [
    "from pathlib import Path\n",
    "import zipfile\n",
    "\n",
    "dataf = Path('data')\n",
    "\n",
    "def unzip_if_zipped(fpath):\n",
    "    try:\n",
    "        with zipfile.ZipFile(fpath, 'r') as zip_ref:\n",
    "            zip_ref.extractall(Path(*Path(fpath).parts[:-1]))\n",
    "    \n",
    "    except FileNotFoundError:\n",
    "        return\n",
    "    \n",
    "    Path(fpath).unlink()\n",
    "\n",
    "# annoyingly, kaggle API doesn't offer auto-unzip for competition download--if they decided to zip it: https://github.com/Kaggle/kaggle-api/pull/231\n",
    "# so we auto-unzip ourselves...\n",
    "def downloadf(dataf, comp, fref):\n",
    "    path = dataf / Path(*Path(fref).parts[:-1])\n",
    "    api.competition_download_file(comp.ref, fref, path=path)\n",
    "    unzip_if_zipped(f'{dataf / fref}.zip')\n",
    "\n",
    "# here's an example\n",
    "downloadf(dataf, comp, 'train_images/008/11/00811__005.jpg')"
   ]
  },
  {
   "cell_type": "markdown",
   "metadata": {},
   "source": [
    "Download test metadata (WARNING: LARGE)"
   ]
  },
  {
   "cell_type": "code",
   "execution_count": 44,
   "metadata": {},
   "outputs": [
    {
     "name": "stdout",
     "output_type": "stream",
     "text": [
      "Downloading test_metadata.json.zip to data\n"
     ]
    },
    {
     "name": "stderr",
     "output_type": "stream",
     "text": [
      "100%|██████████| 1.15M/1.15M [00:00<00:00, 7.94MB/s]\n"
     ]
    },
    {
     "name": "stdout",
     "output_type": "stream",
     "text": [
      "\n"
     ]
    }
   ],
   "source": [
    "downloadf(dataf, comp, 'test_metadata.json')"
   ]
  },
  {
   "cell_type": "markdown",
   "metadata": {},
   "source": [
    "Download 50 test data in no particular order"
   ]
  },
  {
   "cell_type": "code",
   "execution_count": null,
   "metadata": {},
   "outputs": [],
   "source": [
    "for i, file in filelist"
   ]
  },
  {
   "cell_type": "code",
   "execution_count": 45,
   "metadata": {},
   "outputs": [
    {
     "name": "stdout",
     "output_type": "stream",
     "text": [
      "[rookie_draft_0]\n"
     ]
    }
   ],
   "source": [
    "kernels = api.kernels_list(mine=True)\n",
    "print(kernels)"
   ]
  },
  {
   "cell_type": "code",
   "execution_count": 46,
   "metadata": {},
   "outputs": [
    {
     "data": {
      "text/plain": [
       "'.\\\\rookie-draft-0.ipynb'"
      ]
     },
     "execution_count": 46,
     "metadata": {},
     "output_type": "execute_result"
    }
   ],
   "source": [
    "api.kernels_pull('kevinlee333/rookie-draft-0', path='.')"
   ]
  },
  {
   "cell_type": "code",
   "execution_count": 47,
   "metadata": {},
   "outputs": [
    {
     "data": {
      "text/plain": [
       "'.\\\\kernel-metadata.json'"
      ]
     },
     "execution_count": 47,
     "metadata": {},
     "output_type": "execute_result"
    }
   ],
   "source": [
    "api.kernels_initialize('.')"
   ]
  }
 ],
 "metadata": {
  "interpreter": {
   "hash": "2e866f0e2aa140c3884bc029dbe31d56837afa270cbfff6f5c57dbc7b48b8e98"
  },
  "kernelspec": {
   "display_name": "Python 3.9.7 ('base')",
   "language": "python",
   "name": "python3"
  },
  "language_info": {
   "codemirror_mode": {
    "name": "ipython",
    "version": 3
   },
   "file_extension": ".py",
   "mimetype": "text/x-python",
   "name": "python",
   "nbconvert_exporter": "python",
   "pygments_lexer": "ipython3",
   "version": "3.9.7"
  },
  "orig_nbformat": 4
 },
 "nbformat": 4,
 "nbformat_minor": 2
}
