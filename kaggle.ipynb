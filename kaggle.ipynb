{
 "cells": [
  {
   "cell_type": "markdown",
   "source": "# Herbarium 2022 - FGVC9\n\nWe will begin by importing files one-by-one from the competition\n\nReference: https://technowhisp.com/kaggle-api-python-documentation/",
   "metadata": {
    "cell_id": "537ef008-f310-490f-90b4-f8e712200ef6",
    "owner_user_id": "936eb0aa-03ca-4152-ac6e-ea9f3d0f9c5e",
    "deepnote_cell_type": "markdown",
    "deepnote_cell_height": 156.78125
   }
  },
  {
   "cell_type": "code",
   "metadata": {
    "deepnote_to_be_reexecuted": false,
    "source_hash": "4ae286c4",
    "execution_start": 1649522379298,
    "execution_millis": 30,
    "cell_id": "00001-1372b987-5ee1-418b-a491-f26176fa9780",
    "deepnote_cell_type": "code",
    "deepnote_cell_height": 243
   },
   "source": "from kaggle.api.kaggle_api_extended import KaggleApi\n\napi = KaggleApi()\napi.authenticate()\n\n# get the competition\n# comp = api.competitions_list(search='herbarium-2022-fgvc9')[0]\n# print(comp.ref,comp.reward,comp.userRank,sep=',')\n\ncomp = 'sorghum-id-fgvc-9'",
   "execution_count": null,
   "outputs": []
  },
  {
   "cell_type": "markdown",
   "source": "Format of a file",
   "metadata": {
    "cell_id": "00002-183a528e-6559-4caf-8595-fbf7f5113caf",
    "deepnote_cell_type": "markdown",
    "deepnote_cell_height": 52.390625
   }
  },
  {
   "cell_type": "code",
   "metadata": {
    "deepnote_to_be_reexecuted": false,
    "source_hash": "fab76d50",
    "execution_start": 1649522383467,
    "execution_millis": 507,
    "cell_id": "00003-9d5a5e01-ef06-4dd2-ade6-acb136f09f78",
    "deepnote_cell_type": "code",
    "deepnote_cell_height": 347.25,
    "deepnote_output_heights": [
     232.25
    ]
   },
   "source": "filelist = api.competitions_data_list_files(comp)\nfilelist[0]",
   "execution_count": null,
   "outputs": [
    {
     "output_type": "execute_result",
     "execution_count": 2,
     "data": {
      "text/plain": "{'nameNullable': 'test/1001197278.png',\n 'descriptionNullable': None,\n 'urlNullable': 'https://www.kaggle.com/',\n 'ref': 'test/1001197278.png',\n 'name': 'test/1001197278.png',\n 'hasName': True,\n 'description': '',\n 'hasDescription': False,\n 'totalBytes': 1741711,\n 'url': 'https://www.kaggle.com/',\n 'hasUrl': True,\n 'creationDate': '2022-03-24T19:31:38.563247Z'}"
     },
     "metadata": {}
    }
   ]
  },
  {
   "cell_type": "code",
   "metadata": {
    "deepnote_to_be_reexecuted": false,
    "source_hash": "7e03593d",
    "execution_start": 1648310156913,
    "execution_millis": 22,
    "cell_id": "00004-c532058e-e8bd-4393-ac8e-e667d2fc8d54",
    "deepnote_cell_type": "code",
    "deepnote_cell_height": 658.1875,
    "deepnote_output_heights": [
     21.1875
    ]
   },
   "source": "from pathlib import Path\nimport zipfile\n\ndataf = Path('data')\n\ndef unzip_if_zipped(fpath):\n    fpath = f'{fpath}.zip'\n\n    try:\n        with zipfile.ZipFile(fpath, 'r') as zip_ref:\n            zip_ref.extractall(Path(*Path(fpath).parts[:-1]))\n        \n        Path(fpath).unlink()\n    \n    except FileNotFoundError:\n        return\n\n# annoyingly, kaggle API doesn't offer auto-unzip for competition download--if they decided to zip it: https://github.com/Kaggle/kaggle-api/pull/231\n# so we auto-unzip ourselves...\n# Download is skipped if file is already present on the system\ndef downloadf(dataf, comp, fref):\n    if not (dataf / fref).exists():\n        path = dataf / Path(*Path(fref).parts[:-1])\n        api.competition_download_file(comp, fref, path=path)\n        unzip_if_zipped(dataf / fref)\n        return True\n    \n    return False\n\n# here's an example\ndownloadf(dataf, comp, 'test/1001197278.png')",
   "execution_count": null,
   "outputs": [
    {
     "output_type": "execute_result",
     "execution_count": 4,
     "data": {
      "text/plain": "False"
     },
     "metadata": {}
    }
   ]
  },
  {
   "cell_type": "markdown",
   "source": "Download test metadata",
   "metadata": {
    "cell_id": "00005-217c1ad6-fbcc-4c08-a446-dec86f60b63f",
    "deepnote_cell_type": "markdown",
    "deepnote_cell_height": 52.390625
   }
  },
  {
   "cell_type": "code",
   "metadata": {
    "deepnote_to_be_reexecuted": false,
    "source_hash": "4ac71fac",
    "execution_start": 1647920297051,
    "execution_millis": 5,
    "cell_id": "00006-fa8c5698-c78f-456b-8607-54ee5e495340",
    "deepnote_cell_type": "code",
    "deepnote_cell_height": 118.1875,
    "deepnote_output_heights": [
     21.1875
    ]
   },
   "source": "# downloadf(dataf, comp, 'test_metadata.json')",
   "execution_count": null,
   "outputs": [
    {
     "output_type": "execute_result",
     "execution_count": 4,
     "data": {
      "text/plain": "False"
     },
     "metadata": {}
    }
   ]
  },
  {
   "cell_type": "code",
   "metadata": {
    "tags": [],
    "deepnote_to_be_reexecuted": false,
    "source_hash": "8a2bb279",
    "execution_start": 1648305997824,
    "execution_millis": 1,
    "cell_id": "00007-c472fe13-9dbd-49b9-8b18-e87672a6782b",
    "deepnote_cell_type": "code",
    "deepnote_cell_height": 118.1875,
    "deepnote_output_heights": [
     21.1875
    ]
   },
   "source": "downloadf(dataf, comp, 'train_cultivar_mapping.csv')",
   "execution_count": null,
   "outputs": [
    {
     "output_type": "execute_result",
     "execution_count": 6,
     "data": {
      "text/plain": "False"
     },
     "metadata": {}
    }
   ]
  },
  {
   "cell_type": "markdown",
   "source": "Import the `.csv` for `train_cultivar_mapping.csv`",
   "metadata": {
    "cell_id": "00008-7e9eeb30-156e-42c3-945c-b66e696e3a22",
    "deepnote_cell_type": "markdown",
    "deepnote_cell_height": 52.390625
   }
  },
  {
   "cell_type": "code",
   "metadata": {
    "tags": [],
    "deepnote_to_be_reexecuted": false,
    "source_hash": "131f1fba",
    "execution_start": 1648310164402,
    "execution_millis": 105,
    "cell_id": "00010-f2937c66-baa6-4cce-9e07-717fd1898d83",
    "deepnote_cell_type": "code",
    "deepnote_cell_height": 726
   },
   "source": "import pandas as pd\n\ntrain_metadata = None\n\nwith open(Path(dataf / 'train_cultivar_mapping.csv')) as fp:\n    train_metadata = pd.read_csv(fp)\n\ntrain_metadata",
   "execution_count": null,
   "outputs": [
    {
     "output_type": "execute_result",
     "execution_count": 5,
     "data": {
      "application/vnd.deepnote.dataframe.v3+json": {
       "column_count": 2,
       "row_count": 22194,
       "columns": [
        {
         "name": "image",
         "dtype": "object",
         "stats": {
          "unique_count": 22194,
          "nan_count": 0,
          "categories": [
           {
            "name": "2017-06-16__12-24-20-930.png",
            "count": 1
           },
           {
            "name": "2017-06-02__16-48-57-866.png",
            "count": 1
           },
           {
            "name": "22192 others",
            "count": 22192
           }
          ]
         }
        },
        {
         "name": "cultivar",
         "dtype": "object",
         "stats": {
          "unique_count": 100,
          "nan_count": 1,
          "categories": [
           {
            "name": "PI_156393",
            "count": 298
           },
           {
            "name": "99 others",
            "count": 21895
           },
           {
            "name": "Missing",
            "count": 1
           }
          ]
         }
        },
        {
         "name": "_deepnote_index_column",
         "dtype": "int64"
        }
       ],
       "rows": [
        {
         "image": "2017-06-16__12-24-20-930.png",
         "cultivar": "PI_257599",
         "_deepnote_index_column": 0
        },
        {
         "image": "2017-06-02__16-48-57-866.png",
         "cultivar": "PI_154987",
         "_deepnote_index_column": 1
        },
        {
         "image": "2017-06-12__13-18-07-707.png",
         "cultivar": "PI_92270",
         "_deepnote_index_column": 2
        },
        {
         "image": "2017-06-22__13-18-06-841.png",
         "cultivar": "PI_152651",
         "_deepnote_index_column": 3
        },
        {
         "image": "2017-06-26__12-56-48-642.png",
         "cultivar": "PI_176766",
         "_deepnote_index_column": 4
        },
        {
         "image": "2017-06-05__12-30-08-470.png",
         "cultivar": "PI_156330",
         "_deepnote_index_column": 5
        },
        {
         "image": "2017-06-18__13-23-50-617.png",
         "cultivar": "PI_329299",
         "_deepnote_index_column": 6
        },
        {
         "image": "2017-06-15__14-08-45-158.png",
         "cultivar": "PI_52606",
         "_deepnote_index_column": 7
        },
        {
         "image": "2017-06-13__10-47-59-932.png",
         "cultivar": "PI_145633",
         "_deepnote_index_column": 8
        },
        {
         "image": "2017-06-20__12-22-35-820.png",
         "cultivar": "PI_273969",
         "_deepnote_index_column": 9
        }
       ]
      },
      "text/plain": "                              image   cultivar\n0      2017-06-16__12-24-20-930.png  PI_257599\n1      2017-06-02__16-48-57-866.png  PI_154987\n2      2017-06-12__13-18-07-707.png   PI_92270\n3      2017-06-22__13-18-06-841.png  PI_152651\n4      2017-06-26__12-56-48-642.png  PI_176766\n...                             ...        ...\n22189  2017-06-16__12-27-16-266.png  PI_170787\n22190  2017-06-28__11-19-57-454.png  PI_156393\n22191  2017-06-28__10-20-32-417.png  PI_152923\n22192  2017-06-28__12-47-02-714.png  PI_257599\n22193  2017-06-04__13-12-56-053.png  PI_196586\n\n[22194 rows x 2 columns]",
      "text/html": "<div>\n<style scoped>\n    .dataframe tbody tr th:only-of-type {\n        vertical-align: middle;\n    }\n\n    .dataframe tbody tr th {\n        vertical-align: top;\n    }\n\n    .dataframe thead th {\n        text-align: right;\n    }\n</style>\n<table border=\"1\" class=\"dataframe\">\n  <thead>\n    <tr style=\"text-align: right;\">\n      <th></th>\n      <th>image</th>\n      <th>cultivar</th>\n    </tr>\n  </thead>\n  <tbody>\n    <tr>\n      <th>0</th>\n      <td>2017-06-16__12-24-20-930.png</td>\n      <td>PI_257599</td>\n    </tr>\n    <tr>\n      <th>1</th>\n      <td>2017-06-02__16-48-57-866.png</td>\n      <td>PI_154987</td>\n    </tr>\n    <tr>\n      <th>2</th>\n      <td>2017-06-12__13-18-07-707.png</td>\n      <td>PI_92270</td>\n    </tr>\n    <tr>\n      <th>3</th>\n      <td>2017-06-22__13-18-06-841.png</td>\n      <td>PI_152651</td>\n    </tr>\n    <tr>\n      <th>4</th>\n      <td>2017-06-26__12-56-48-642.png</td>\n      <td>PI_176766</td>\n    </tr>\n    <tr>\n      <th>...</th>\n      <td>...</td>\n      <td>...</td>\n    </tr>\n    <tr>\n      <th>22189</th>\n      <td>2017-06-16__12-27-16-266.png</td>\n      <td>PI_170787</td>\n    </tr>\n    <tr>\n      <th>22190</th>\n      <td>2017-06-28__11-19-57-454.png</td>\n      <td>PI_156393</td>\n    </tr>\n    <tr>\n      <th>22191</th>\n      <td>2017-06-28__10-20-32-417.png</td>\n      <td>PI_152923</td>\n    </tr>\n    <tr>\n      <th>22192</th>\n      <td>2017-06-28__12-47-02-714.png</td>\n      <td>PI_257599</td>\n    </tr>\n    <tr>\n      <th>22193</th>\n      <td>2017-06-04__13-12-56-053.png</td>\n      <td>PI_196586</td>\n    </tr>\n  </tbody>\n</table>\n<p>22194 rows × 2 columns</p>\n</div>"
     },
     "metadata": {}
    }
   ]
  },
  {
   "cell_type": "markdown",
   "source": "Download the dataset (**⚠️ WARNING: VERY LARGE! ⚠️**) in no particular order",
   "metadata": {
    "tags": [],
    "cell_id": "00011-693057ea-1748-46fb-89bb-920fdc6c86f8",
    "deepnote_cell_type": "markdown",
    "deepnote_cell_height": 52.390625
   }
  },
  {
   "cell_type": "code",
   "metadata": {
    "tags": [],
    "deepnote_to_be_reexecuted": false,
    "source_hash": "db21184b",
    "execution_start": 1648310327785,
    "execution_millis": 5799,
    "cell_id": "00013-20c1d7d1-aff3-4bf9-8afa-96b87c2d76cd",
    "deepnote_cell_type": "code",
    "deepnote_cell_height": 1229.1875
   },
   "source": "from kaggle.rest import ApiException \nimport time\n\n# size of our test data set\n# we're imposing a limit for now since the full data set is way too large to be fit on our computer\ntest_m = 400\n\nsuccess = 1\n\ntrain_metadata_subset = pd.DataFrame(columns=['image', 'cultivar'])\n\nfor i, imgref in enumerate(train_metadata['image']):\n\n    if i >= test_m:\n        break\n    \n    print(f'Downloading image #{i}')\n    # that's the file structure they went for for this competition \n    if downloadf(dataf, comp, f\"train_images/{imgref}\"):\n        # download was successful\n        pass\n    else:\n        print('skipped')\n    \n    # add this entry to the subset metadata\n    train_metadata_subset.loc[i] = train_metadata.loc[i]",
   "execution_count": null,
   "outputs": [
    {
     "name": "stdout",
     "text": "Downloading image #0\nskipped\nDownloading image #1\nskipped\nDownloading image #2\nskipped\nDownloading image #3\nskipped\nDownloading image #4\nskipped\nDownloading image #5\nskipped\nDownloading image #6\nskipped\nDownloading image #7\nskipped\nDownloading image #8\nskipped\nDownloading image #9\nskipped\nDownloading image #10\nskipped\nDownloading image #11\nskipped\nDownloading image #12\nskipped\nDownloading image #13\nskipped\nDownloading image #14\nskipped\nDownloading image #15\nskipped\nDownloading image #16\nskipped\nDownloading image #17\nskipped\nDownloading image #18\nskipped\nDownloading image #19\nskipped\nDownloading image #20\nskipped\nDownloading image #21\nskipped\nDownloading image #22\nskipped\nDownloading image #23\nskipped\nDownloading image #24\nskipped\nDownloading image #25\nskipped\nDownloading image #26\nskipped\nDownloading image #27\nskipped\nDownloading image #28\nskipped\nDownloading image #29\nskipped\nDownloading image #30\nskipped\nDownloading image #31\nskipped\nDownloading image #32\nskipped\nDownloading image #33\nskipped\nDownloading image #34\nskipped\nDownloading image #35\nskipped\nDownloading image #36\nskipped\nDownloading image #37\nskipped\nDownloading image #38\nskipped\nDownloading image #39\nskipped\nDownloading image #40\nskipped\nDownloading image #41\nskipped\nDownloading image #42\nskipped\nDownloading image #43\nskipped\nDownloading image #44\nskipped\nDownloading image #45\nskipped\nDownloading image #46\nskipped\nDownloading image #47\nskipped\nDownloading image #48\nskipped\nDownloading image #49\nskipped\nDownloading image #50\nskipped\nDownloading image #51\nskipped\nDownloading image #52\nskipped\nDownloading image #53\nskipped\nDownloading image #54\nskipped\nDownloading image #55\nskipped\nDownloading image #56\nskipped\nDownloading image #57\nskipped\nDownloading image #58\nskipped\nDownloading image #59\nskipped\nDownloading image #60\nskipped\nDownloading image #61\nskipped\nDownloading image #62\nskipped\nDownloading image #63\nskipped\nDownloading image #64\nskipped\nDownloading image #65\nskipped\nDownloading image #66\nskipped\nDownloading image #67\nskipped\nDownloading image #68\nskipped\nDownloading image #69\nskipped\nDownloading image #70\nskipped\nDownloading image #71\nskipped\nDownloading image #72\nskipped\nDownloading image #73\nskipped\nDownloading image #74\nskipped\nDownloading image #75\nskipped\nDownloading image #76\nskipped\nDownloading image #77\nskipped\nDownloading image #78\nskipped\nDownloading image #79\nskipped\nDownloading image #80\nskipped\nDownloading image #81\nskipped\nDownloading image #82\nskipped\nDownloading image #83\nskipped\nDownloading image #84\nskipped\nDownloading image #85\nskipped\nDownloading image #86\nskipped\nDownloading image #87\nskipped\nDownloading image #88\nskipped\nDownloading image #89\nskipped\nDownloading image #90\nskipped\nDownloading image #91\nskipped\nDownloading image #92\nskipped\nDownloading image #93\nskipped\nDownloading image #94\nskipped\nDownloading image #95\nskipped\nDownloading image #96\nskipped\nDownloading image #97\nskipped\nDownloading image #98\nskipped\nDownloading image #99\nskipped\nDownloading image #100\nskipped\nDownloading image #101\nskipped\nDownloading image #102\nskipped\nDownloading image #103\nskipped\nDownloading image #104\nskipped\nDownloading image #105\nskipped\nDownloading image #106\nskipped\nDownloading image #107\nskipped\nDownloading image #108\nskipped\nDownloading image #109\nskipped\nDownloading image #110\nskipped\nDownloading image #111\nskipped\nDownloading image #112\nskipped\nDownloading image #113\nskipped\nDownloading image #114\nskipped\nDownloading image #115\nskipped\nDownloading image #116\nskipped\nDownloading image #117\nskipped\nDownloading image #118\nskipped\nDownloading image #119\nskipped\nDownloading image #120\nskipped\nDownloading image #121\nskipped\nDownloading image #122\nskipped\nDownloading image #123\nskipped\nDownloading image #124\nskipped\nDownloading image #125\nskipped\nDownloading image #126\nskipped\nDownloading image #127\nskipped\nDownloading image #128\nskipped\nDownloading image #129\nskipped\nDownloading image #130\nskipped\nDownloading image #131\nskipped\nDownloading image #132\nskipped\nDownloading image #133\nskipped\nDownloading image #134\nskipped\nDownloading image #135\nskipped\nDownloading image #136\nskipped\nDownloading image #137\nskipped\nDownloading image #138\nskipped\nDownloading image #139\nskipped\nDownloading image #140\nskipped\nDownloading image #141\nskipped\nDownloading image #142\nskipped\nDownloading image #143\nskipped\nDownloading image #144\nskipped\nDownloading image #145\nskipped\nDownloading image #146\nskipped\nDownloading image #147\nskipped\nDownloading image #148\nskipped\nDownloading image #149\nskipped\nDownloading image #150\nskipped\nDownloading image #151\nskipped\nDownloading image #152\nskipped\nDownloading image #153\nskipped\nDownloading image #154\nskipped\nDownloading image #155\nskipped\nDownloading image #156\nskipped\nDownloading image #157\nskipped\nDownloading image #158\nskipped\nDownloading image #159\nskipped\nDownloading image #160\nskipped\nDownloading image #161\nskipped\nDownloading image #162\nDownloading 2017-06-02__18-15-54-053.png.zip to data/train_images\n100%|██████████| 1.53M/1.53M [00:00<00:00, 58.5MB/s]\nDownloading image #163\n\nDownloading 2017-06-18__14-41-59-638.png.zip to data/train_images\n100%|██████████| 1.58M/1.58M [00:00<00:00, 197MB/s]\nDownloading image #164\n\nDownloading 2017-06-19__15-57-59-480.png.zip to data/train_images\n100%|██████████| 1.64M/1.64M [00:00<00:00, 100MB/s]\nDownloading image #165\n\n",
     "output_type": "stream"
    },
    {
     "output_type": "error",
     "ename": "KeyboardInterrupt",
     "evalue": "",
     "traceback": [
      "\u001b[0;31m---------------------------------------------------------------------------\u001b[0m",
      "\u001b[0;31mKeyboardInterrupt\u001b[0m                         Traceback (most recent call last)",
      "\u001b[0;32m<ipython-input-10-df18c352ea13>\u001b[0m in \u001b[0;36m<module>\u001b[0;34m\u001b[0m\n\u001b[1;32m     17\u001b[0m     \u001b[0mprint\u001b[0m\u001b[0;34m(\u001b[0m\u001b[0;34mf'Downloading image #{i}'\u001b[0m\u001b[0;34m)\u001b[0m\u001b[0;34m\u001b[0m\u001b[0;34m\u001b[0m\u001b[0m\n\u001b[1;32m     18\u001b[0m     \u001b[0;31m# that's the file structure they went for for this competition\u001b[0m\u001b[0;34m\u001b[0m\u001b[0;34m\u001b[0m\u001b[0;34m\u001b[0m\u001b[0m\n\u001b[0;32m---> 19\u001b[0;31m     \u001b[0;32mif\u001b[0m \u001b[0mdownloadf\u001b[0m\u001b[0;34m(\u001b[0m\u001b[0mdataf\u001b[0m\u001b[0;34m,\u001b[0m \u001b[0mcomp\u001b[0m\u001b[0;34m,\u001b[0m \u001b[0;34mf\"train_images/{imgref}\"\u001b[0m\u001b[0;34m)\u001b[0m\u001b[0;34m:\u001b[0m\u001b[0;34m\u001b[0m\u001b[0;34m\u001b[0m\u001b[0m\n\u001b[0m\u001b[1;32m     20\u001b[0m         \u001b[0;31m# download was successful\u001b[0m\u001b[0;34m\u001b[0m\u001b[0;34m\u001b[0m\u001b[0;34m\u001b[0m\u001b[0m\n\u001b[1;32m     21\u001b[0m         \u001b[0;32mpass\u001b[0m\u001b[0;34m\u001b[0m\u001b[0;34m\u001b[0m\u001b[0m\n",
      "\u001b[0;32m<ipython-input-4-6b356232c737>\u001b[0m in \u001b[0;36mdownloadf\u001b[0;34m(dataf, comp, fref)\u001b[0m\n\u001b[1;32m     22\u001b[0m     \u001b[0;32mif\u001b[0m \u001b[0;32mnot\u001b[0m \u001b[0;34m(\u001b[0m\u001b[0mdataf\u001b[0m \u001b[0;34m/\u001b[0m \u001b[0mfref\u001b[0m\u001b[0;34m)\u001b[0m\u001b[0;34m.\u001b[0m\u001b[0mexists\u001b[0m\u001b[0;34m(\u001b[0m\u001b[0;34m)\u001b[0m\u001b[0;34m:\u001b[0m\u001b[0;34m\u001b[0m\u001b[0;34m\u001b[0m\u001b[0m\n\u001b[1;32m     23\u001b[0m         \u001b[0mpath\u001b[0m \u001b[0;34m=\u001b[0m \u001b[0mdataf\u001b[0m \u001b[0;34m/\u001b[0m \u001b[0mPath\u001b[0m\u001b[0;34m(\u001b[0m\u001b[0;34m*\u001b[0m\u001b[0mPath\u001b[0m\u001b[0;34m(\u001b[0m\u001b[0mfref\u001b[0m\u001b[0;34m)\u001b[0m\u001b[0;34m.\u001b[0m\u001b[0mparts\u001b[0m\u001b[0;34m[\u001b[0m\u001b[0;34m:\u001b[0m\u001b[0;34m-\u001b[0m\u001b[0;36m1\u001b[0m\u001b[0;34m]\u001b[0m\u001b[0;34m)\u001b[0m\u001b[0;34m\u001b[0m\u001b[0;34m\u001b[0m\u001b[0m\n\u001b[0;32m---> 24\u001b[0;31m         \u001b[0mapi\u001b[0m\u001b[0;34m.\u001b[0m\u001b[0mcompetition_download_file\u001b[0m\u001b[0;34m(\u001b[0m\u001b[0mcomp\u001b[0m\u001b[0;34m,\u001b[0m \u001b[0mfref\u001b[0m\u001b[0;34m,\u001b[0m \u001b[0mpath\u001b[0m\u001b[0;34m=\u001b[0m\u001b[0mpath\u001b[0m\u001b[0;34m)\u001b[0m\u001b[0;34m\u001b[0m\u001b[0;34m\u001b[0m\u001b[0m\n\u001b[0m\u001b[1;32m     25\u001b[0m         \u001b[0munzip_if_zipped\u001b[0m\u001b[0;34m(\u001b[0m\u001b[0mdataf\u001b[0m \u001b[0;34m/\u001b[0m \u001b[0mfref\u001b[0m\u001b[0;34m)\u001b[0m\u001b[0;34m\u001b[0m\u001b[0;34m\u001b[0m\u001b[0m\n\u001b[1;32m     26\u001b[0m         \u001b[0;32mreturn\u001b[0m \u001b[0;32mTrue\u001b[0m\u001b[0;34m\u001b[0m\u001b[0;34m\u001b[0m\u001b[0m\n",
      "\u001b[0;32m~/venv/lib/python3.7/site-packages/kaggle/api/kaggle_api_extended.py\u001b[0m in \u001b[0;36mcompetition_download_file\u001b[0;34m(self, competition, file_name, path, force, quiet)\u001b[0m\n\u001b[1;32m    688\u001b[0m         response = self.process_response(\n\u001b[1;32m    689\u001b[0m             self.competitions_data_download_file_with_http_info(\n\u001b[0;32m--> 690\u001b[0;31m                 id=competition, file_name=file_name, _preload_content=False))\n\u001b[0m\u001b[1;32m    691\u001b[0m         \u001b[0murl\u001b[0m \u001b[0;34m=\u001b[0m \u001b[0mresponse\u001b[0m\u001b[0;34m.\u001b[0m\u001b[0mretries\u001b[0m\u001b[0;34m.\u001b[0m\u001b[0mhistory\u001b[0m\u001b[0;34m[\u001b[0m\u001b[0;36m0\u001b[0m\u001b[0;34m]\u001b[0m\u001b[0;34m.\u001b[0m\u001b[0mredirect_location\u001b[0m\u001b[0;34m.\u001b[0m\u001b[0msplit\u001b[0m\u001b[0;34m(\u001b[0m\u001b[0;34m'?'\u001b[0m\u001b[0;34m)\u001b[0m\u001b[0;34m[\u001b[0m\u001b[0;36m0\u001b[0m\u001b[0;34m]\u001b[0m\u001b[0;34m\u001b[0m\u001b[0;34m\u001b[0m\u001b[0m\n\u001b[1;32m    692\u001b[0m         \u001b[0moutfile\u001b[0m \u001b[0;34m=\u001b[0m \u001b[0mos\u001b[0m\u001b[0;34m.\u001b[0m\u001b[0mpath\u001b[0m\u001b[0;34m.\u001b[0m\u001b[0mjoin\u001b[0m\u001b[0;34m(\u001b[0m\u001b[0meffective_path\u001b[0m\u001b[0;34m,\u001b[0m \u001b[0murl\u001b[0m\u001b[0;34m.\u001b[0m\u001b[0msplit\u001b[0m\u001b[0;34m(\u001b[0m\u001b[0;34m'/'\u001b[0m\u001b[0;34m)\u001b[0m\u001b[0;34m[\u001b[0m\u001b[0;34m-\u001b[0m\u001b[0;36m1\u001b[0m\u001b[0;34m]\u001b[0m\u001b[0;34m)\u001b[0m\u001b[0;34m\u001b[0m\u001b[0;34m\u001b[0m\u001b[0m\n",
      "\u001b[0;32m~/venv/lib/python3.7/site-packages/kaggle/api/kaggle_api.py\u001b[0m in \u001b[0;36mcompetitions_data_download_file_with_http_info\u001b[0;34m(self, id, file_name, **kwargs)\u001b[0m\n\u001b[1;32m    323\u001b[0m             \u001b[0m_preload_content\u001b[0m\u001b[0;34m=\u001b[0m\u001b[0mparams\u001b[0m\u001b[0;34m.\u001b[0m\u001b[0mget\u001b[0m\u001b[0;34m(\u001b[0m\u001b[0;34m'_preload_content'\u001b[0m\u001b[0;34m,\u001b[0m \u001b[0;32mTrue\u001b[0m\u001b[0;34m)\u001b[0m\u001b[0;34m,\u001b[0m\u001b[0;34m\u001b[0m\u001b[0;34m\u001b[0m\u001b[0m\n\u001b[1;32m    324\u001b[0m             \u001b[0m_request_timeout\u001b[0m\u001b[0;34m=\u001b[0m\u001b[0mparams\u001b[0m\u001b[0;34m.\u001b[0m\u001b[0mget\u001b[0m\u001b[0;34m(\u001b[0m\u001b[0;34m'_request_timeout'\u001b[0m\u001b[0;34m)\u001b[0m\u001b[0;34m,\u001b[0m\u001b[0;34m\u001b[0m\u001b[0;34m\u001b[0m\u001b[0m\n\u001b[0;32m--> 325\u001b[0;31m             collection_formats=collection_formats)\n\u001b[0m\u001b[1;32m    326\u001b[0m \u001b[0;34m\u001b[0m\u001b[0m\n\u001b[1;32m    327\u001b[0m     \u001b[0;32mdef\u001b[0m \u001b[0mcompetitions_data_download_files\u001b[0m\u001b[0;34m(\u001b[0m\u001b[0mself\u001b[0m\u001b[0;34m,\u001b[0m \u001b[0mid\u001b[0m\u001b[0;34m,\u001b[0m \u001b[0;34m**\u001b[0m\u001b[0mkwargs\u001b[0m\u001b[0;34m)\u001b[0m\u001b[0;34m:\u001b[0m  \u001b[0;31m# noqa: E501\u001b[0m\u001b[0;34m\u001b[0m\u001b[0;34m\u001b[0m\u001b[0m\n",
      "\u001b[0;32m~/venv/lib/python3.7/site-packages/kaggle/api_client.py\u001b[0m in \u001b[0;36mcall_api\u001b[0;34m(self, resource_path, method, path_params, query_params, header_params, body, post_params, files, response_type, auth_settings, async_req, _return_http_data_only, collection_formats, _preload_content, _request_timeout)\u001b[0m\n\u001b[1;32m    332\u001b[0m                                    \u001b[0mresponse_type\u001b[0m\u001b[0;34m,\u001b[0m \u001b[0mauth_settings\u001b[0m\u001b[0;34m,\u001b[0m\u001b[0;34m\u001b[0m\u001b[0;34m\u001b[0m\u001b[0m\n\u001b[1;32m    333\u001b[0m                                    \u001b[0m_return_http_data_only\u001b[0m\u001b[0;34m,\u001b[0m \u001b[0mcollection_formats\u001b[0m\u001b[0;34m,\u001b[0m\u001b[0;34m\u001b[0m\u001b[0;34m\u001b[0m\u001b[0m\n\u001b[0;32m--> 334\u001b[0;31m                                    _preload_content, _request_timeout)\n\u001b[0m\u001b[1;32m    335\u001b[0m         \u001b[0;32melse\u001b[0m\u001b[0;34m:\u001b[0m\u001b[0;34m\u001b[0m\u001b[0;34m\u001b[0m\u001b[0m\n\u001b[1;32m    336\u001b[0m             thread = self.pool.apply_async(self.__call_api, (resource_path,\n",
      "\u001b[0;32m~/venv/lib/python3.7/site-packages/kaggle/api_client.py\u001b[0m in \u001b[0;36m__call_api\u001b[0;34m(self, resource_path, method, path_params, query_params, header_params, body, post_params, files, response_type, auth_settings, _return_http_data_only, collection_formats, _preload_content, _request_timeout)\u001b[0m\n\u001b[1;32m    163\u001b[0m             \u001b[0mpost_params\u001b[0m\u001b[0;34m=\u001b[0m\u001b[0mpost_params\u001b[0m\u001b[0;34m,\u001b[0m \u001b[0mbody\u001b[0m\u001b[0;34m=\u001b[0m\u001b[0mbody\u001b[0m\u001b[0;34m,\u001b[0m\u001b[0;34m\u001b[0m\u001b[0;34m\u001b[0m\u001b[0m\n\u001b[1;32m    164\u001b[0m             \u001b[0m_preload_content\u001b[0m\u001b[0;34m=\u001b[0m\u001b[0m_preload_content\u001b[0m\u001b[0;34m,\u001b[0m\u001b[0;34m\u001b[0m\u001b[0;34m\u001b[0m\u001b[0m\n\u001b[0;32m--> 165\u001b[0;31m             _request_timeout=_request_timeout)\n\u001b[0m\u001b[1;32m    166\u001b[0m \u001b[0;34m\u001b[0m\u001b[0m\n\u001b[1;32m    167\u001b[0m         \u001b[0mself\u001b[0m\u001b[0;34m.\u001b[0m\u001b[0mlast_response\u001b[0m \u001b[0;34m=\u001b[0m \u001b[0mresponse_data\u001b[0m\u001b[0;34m\u001b[0m\u001b[0;34m\u001b[0m\u001b[0m\n",
      "\u001b[0;32m~/venv/lib/python3.7/site-packages/kaggle/api_client.py\u001b[0m in \u001b[0;36mrequest\u001b[0;34m(self, method, url, query_params, headers, post_params, body, _preload_content, _request_timeout)\u001b[0m\n\u001b[1;32m    353\u001b[0m                                         \u001b[0m_preload_content\u001b[0m\u001b[0;34m=\u001b[0m\u001b[0m_preload_content\u001b[0m\u001b[0;34m,\u001b[0m\u001b[0;34m\u001b[0m\u001b[0;34m\u001b[0m\u001b[0m\n\u001b[1;32m    354\u001b[0m                                         \u001b[0m_request_timeout\u001b[0m\u001b[0;34m=\u001b[0m\u001b[0m_request_timeout\u001b[0m\u001b[0;34m,\u001b[0m\u001b[0;34m\u001b[0m\u001b[0;34m\u001b[0m\u001b[0m\n\u001b[0;32m--> 355\u001b[0;31m                                         headers=headers)\n\u001b[0m\u001b[1;32m    356\u001b[0m         \u001b[0;32melif\u001b[0m \u001b[0mmethod\u001b[0m \u001b[0;34m==\u001b[0m \u001b[0;34m\"HEAD\"\u001b[0m\u001b[0;34m:\u001b[0m\u001b[0;34m\u001b[0m\u001b[0;34m\u001b[0m\u001b[0m\n\u001b[1;32m    357\u001b[0m             return self.rest_client.HEAD(url,\n",
      "\u001b[0;32m~/venv/lib/python3.7/site-packages/kaggle/rest.py\u001b[0m in \u001b[0;36mGET\u001b[0;34m(self, url, headers, query_params, _preload_content, _request_timeout)\u001b[0m\n\u001b[1;32m    249\u001b[0m                             \u001b[0m_preload_content\u001b[0m\u001b[0;34m=\u001b[0m\u001b[0m_preload_content\u001b[0m\u001b[0;34m,\u001b[0m\u001b[0;34m\u001b[0m\u001b[0;34m\u001b[0m\u001b[0m\n\u001b[1;32m    250\u001b[0m                             \u001b[0m_request_timeout\u001b[0m\u001b[0;34m=\u001b[0m\u001b[0m_request_timeout\u001b[0m\u001b[0;34m,\u001b[0m\u001b[0;34m\u001b[0m\u001b[0;34m\u001b[0m\u001b[0m\n\u001b[0;32m--> 251\u001b[0;31m                             query_params=query_params)\n\u001b[0m\u001b[1;32m    252\u001b[0m \u001b[0;34m\u001b[0m\u001b[0m\n\u001b[1;32m    253\u001b[0m     def HEAD(self, url, headers=None, query_params=None, _preload_content=True,\n",
      "\u001b[0;32m~/venv/lib/python3.7/site-packages/kaggle/rest.py\u001b[0m in \u001b[0;36mrequest\u001b[0;34m(self, method, url, query_params, headers, body, post_params, _preload_content, _request_timeout)\u001b[0m\n\u001b[1;32m    222\u001b[0m                                               \u001b[0mpreload_content\u001b[0m\u001b[0;34m=\u001b[0m\u001b[0m_preload_content\u001b[0m\u001b[0;34m,\u001b[0m\u001b[0;34m\u001b[0m\u001b[0;34m\u001b[0m\u001b[0m\n\u001b[1;32m    223\u001b[0m                                               \u001b[0mtimeout\u001b[0m\u001b[0;34m=\u001b[0m\u001b[0mtimeout\u001b[0m\u001b[0;34m,\u001b[0m\u001b[0;34m\u001b[0m\u001b[0;34m\u001b[0m\u001b[0m\n\u001b[0;32m--> 224\u001b[0;31m                                               headers=headers)\n\u001b[0m\u001b[1;32m    225\u001b[0m         \u001b[0;32mexcept\u001b[0m \u001b[0murllib3\u001b[0m\u001b[0;34m.\u001b[0m\u001b[0mexceptions\u001b[0m\u001b[0;34m.\u001b[0m\u001b[0mSSLError\u001b[0m \u001b[0;32mas\u001b[0m \u001b[0me\u001b[0m\u001b[0;34m:\u001b[0m\u001b[0;34m\u001b[0m\u001b[0;34m\u001b[0m\u001b[0m\n\u001b[1;32m    226\u001b[0m             \u001b[0mmsg\u001b[0m \u001b[0;34m=\u001b[0m \u001b[0;34m\"{0}\\n{1}\"\u001b[0m\u001b[0;34m.\u001b[0m\u001b[0mformat\u001b[0m\u001b[0;34m(\u001b[0m\u001b[0mtype\u001b[0m\u001b[0;34m(\u001b[0m\u001b[0me\u001b[0m\u001b[0;34m)\u001b[0m\u001b[0;34m.\u001b[0m\u001b[0m__name__\u001b[0m\u001b[0;34m,\u001b[0m \u001b[0mstr\u001b[0m\u001b[0;34m(\u001b[0m\u001b[0me\u001b[0m\u001b[0;34m)\u001b[0m\u001b[0;34m)\u001b[0m\u001b[0;34m\u001b[0m\u001b[0;34m\u001b[0m\u001b[0m\n",
      "\u001b[0;32m/shared-libs/python3.7/py/lib/python3.7/site-packages/urllib3/request.py\u001b[0m in \u001b[0;36mrequest\u001b[0;34m(self, method, url, fields, headers, **urlopen_kw)\u001b[0m\n\u001b[1;32m     73\u001b[0m         \u001b[0;32mif\u001b[0m \u001b[0mmethod\u001b[0m \u001b[0;32min\u001b[0m \u001b[0mself\u001b[0m\u001b[0;34m.\u001b[0m\u001b[0m_encode_url_methods\u001b[0m\u001b[0;34m:\u001b[0m\u001b[0;34m\u001b[0m\u001b[0;34m\u001b[0m\u001b[0m\n\u001b[1;32m     74\u001b[0m             return self.request_encode_url(\n\u001b[0;32m---> 75\u001b[0;31m                 \u001b[0mmethod\u001b[0m\u001b[0;34m,\u001b[0m \u001b[0murl\u001b[0m\u001b[0;34m,\u001b[0m \u001b[0mfields\u001b[0m\u001b[0;34m=\u001b[0m\u001b[0mfields\u001b[0m\u001b[0;34m,\u001b[0m \u001b[0mheaders\u001b[0m\u001b[0;34m=\u001b[0m\u001b[0mheaders\u001b[0m\u001b[0;34m,\u001b[0m \u001b[0;34m**\u001b[0m\u001b[0murlopen_kw\u001b[0m\u001b[0;34m\u001b[0m\u001b[0;34m\u001b[0m\u001b[0m\n\u001b[0m\u001b[1;32m     76\u001b[0m             )\n\u001b[1;32m     77\u001b[0m         \u001b[0;32melse\u001b[0m\u001b[0;34m:\u001b[0m\u001b[0;34m\u001b[0m\u001b[0;34m\u001b[0m\u001b[0m\n",
      "\u001b[0;32m/shared-libs/python3.7/py/lib/python3.7/site-packages/urllib3/request.py\u001b[0m in \u001b[0;36mrequest_encode_url\u001b[0;34m(self, method, url, fields, headers, **urlopen_kw)\u001b[0m\n\u001b[1;32m     94\u001b[0m             \u001b[0murl\u001b[0m \u001b[0;34m+=\u001b[0m \u001b[0;34m\"?\"\u001b[0m \u001b[0;34m+\u001b[0m \u001b[0murlencode\u001b[0m\u001b[0;34m(\u001b[0m\u001b[0mfields\u001b[0m\u001b[0;34m)\u001b[0m\u001b[0;34m\u001b[0m\u001b[0;34m\u001b[0m\u001b[0m\n\u001b[1;32m     95\u001b[0m \u001b[0;34m\u001b[0m\u001b[0m\n\u001b[0;32m---> 96\u001b[0;31m         \u001b[0;32mreturn\u001b[0m \u001b[0mself\u001b[0m\u001b[0;34m.\u001b[0m\u001b[0murlopen\u001b[0m\u001b[0;34m(\u001b[0m\u001b[0mmethod\u001b[0m\u001b[0;34m,\u001b[0m \u001b[0murl\u001b[0m\u001b[0;34m,\u001b[0m \u001b[0;34m**\u001b[0m\u001b[0mextra_kw\u001b[0m\u001b[0;34m)\u001b[0m\u001b[0;34m\u001b[0m\u001b[0;34m\u001b[0m\u001b[0m\n\u001b[0m\u001b[1;32m     97\u001b[0m \u001b[0;34m\u001b[0m\u001b[0m\n\u001b[1;32m     98\u001b[0m     def request_encode_body(\n",
      "\u001b[0;32m/shared-libs/python3.7/py/lib/python3.7/site-packages/urllib3/poolmanager.py\u001b[0m in \u001b[0;36murlopen\u001b[0;34m(self, method, url, redirect, **kw)\u001b[0m\n\u001b[1;32m    374\u001b[0m             \u001b[0mresponse\u001b[0m \u001b[0;34m=\u001b[0m \u001b[0mconn\u001b[0m\u001b[0;34m.\u001b[0m\u001b[0murlopen\u001b[0m\u001b[0;34m(\u001b[0m\u001b[0mmethod\u001b[0m\u001b[0;34m,\u001b[0m \u001b[0murl\u001b[0m\u001b[0;34m,\u001b[0m \u001b[0;34m**\u001b[0m\u001b[0mkw\u001b[0m\u001b[0;34m)\u001b[0m\u001b[0;34m\u001b[0m\u001b[0;34m\u001b[0m\u001b[0m\n\u001b[1;32m    375\u001b[0m         \u001b[0;32melse\u001b[0m\u001b[0;34m:\u001b[0m\u001b[0;34m\u001b[0m\u001b[0;34m\u001b[0m\u001b[0m\n\u001b[0;32m--> 376\u001b[0;31m             \u001b[0mresponse\u001b[0m \u001b[0;34m=\u001b[0m \u001b[0mconn\u001b[0m\u001b[0;34m.\u001b[0m\u001b[0murlopen\u001b[0m\u001b[0;34m(\u001b[0m\u001b[0mmethod\u001b[0m\u001b[0;34m,\u001b[0m \u001b[0mu\u001b[0m\u001b[0;34m.\u001b[0m\u001b[0mrequest_uri\u001b[0m\u001b[0;34m,\u001b[0m \u001b[0;34m**\u001b[0m\u001b[0mkw\u001b[0m\u001b[0;34m)\u001b[0m\u001b[0;34m\u001b[0m\u001b[0;34m\u001b[0m\u001b[0m\n\u001b[0m\u001b[1;32m    377\u001b[0m \u001b[0;34m\u001b[0m\u001b[0m\n\u001b[1;32m    378\u001b[0m         \u001b[0mredirect_location\u001b[0m \u001b[0;34m=\u001b[0m \u001b[0mredirect\u001b[0m \u001b[0;32mand\u001b[0m \u001b[0mresponse\u001b[0m\u001b[0;34m.\u001b[0m\u001b[0mget_redirect_location\u001b[0m\u001b[0;34m(\u001b[0m\u001b[0;34m)\u001b[0m\u001b[0;34m\u001b[0m\u001b[0;34m\u001b[0m\u001b[0m\n",
      "\u001b[0;32m/shared-libs/python3.7/py/lib/python3.7/site-packages/urllib3/connectionpool.py\u001b[0m in \u001b[0;36murlopen\u001b[0;34m(self, method, url, body, headers, retries, redirect, assert_same_host, timeout, pool_timeout, release_conn, chunked, body_pos, **response_kw)\u001b[0m\n\u001b[1;32m    872\u001b[0m \u001b[0;34m\u001b[0m\u001b[0m\n\u001b[1;32m    873\u001b[0m             \u001b[0mresponse\u001b[0m\u001b[0;34m.\u001b[0m\u001b[0mdrain_conn\u001b[0m\u001b[0;34m(\u001b[0m\u001b[0;34m)\u001b[0m\u001b[0;34m\u001b[0m\u001b[0;34m\u001b[0m\u001b[0m\n\u001b[0;32m--> 874\u001b[0;31m             \u001b[0mretries\u001b[0m\u001b[0;34m.\u001b[0m\u001b[0msleep\u001b[0m\u001b[0;34m(\u001b[0m\u001b[0mresponse\u001b[0m\u001b[0;34m)\u001b[0m\u001b[0;34m\u001b[0m\u001b[0;34m\u001b[0m\u001b[0m\n\u001b[0m\u001b[1;32m    875\u001b[0m             \u001b[0mlog\u001b[0m\u001b[0;34m.\u001b[0m\u001b[0mdebug\u001b[0m\u001b[0;34m(\u001b[0m\u001b[0;34m\"Retry: %s\"\u001b[0m\u001b[0;34m,\u001b[0m \u001b[0murl\u001b[0m\u001b[0;34m)\u001b[0m\u001b[0;34m\u001b[0m\u001b[0;34m\u001b[0m\u001b[0m\n\u001b[1;32m    876\u001b[0m             return self.urlopen(\n",
      "\u001b[0;32m/shared-libs/python3.7/py/lib/python3.7/site-packages/urllib3/util/retry.py\u001b[0m in \u001b[0;36msleep\u001b[0;34m(self, response)\u001b[0m\n\u001b[1;32m    426\u001b[0m \u001b[0;34m\u001b[0m\u001b[0m\n\u001b[1;32m    427\u001b[0m         \u001b[0;32mif\u001b[0m \u001b[0mself\u001b[0m\u001b[0;34m.\u001b[0m\u001b[0mrespect_retry_after_header\u001b[0m \u001b[0;32mand\u001b[0m \u001b[0mresponse\u001b[0m\u001b[0;34m:\u001b[0m\u001b[0;34m\u001b[0m\u001b[0;34m\u001b[0m\u001b[0m\n\u001b[0;32m--> 428\u001b[0;31m             \u001b[0mslept\u001b[0m \u001b[0;34m=\u001b[0m \u001b[0mself\u001b[0m\u001b[0;34m.\u001b[0m\u001b[0msleep_for_retry\u001b[0m\u001b[0;34m(\u001b[0m\u001b[0mresponse\u001b[0m\u001b[0;34m)\u001b[0m\u001b[0;34m\u001b[0m\u001b[0;34m\u001b[0m\u001b[0m\n\u001b[0m\u001b[1;32m    429\u001b[0m             \u001b[0;32mif\u001b[0m \u001b[0mslept\u001b[0m\u001b[0;34m:\u001b[0m\u001b[0;34m\u001b[0m\u001b[0;34m\u001b[0m\u001b[0m\n\u001b[1;32m    430\u001b[0m                 \u001b[0;32mreturn\u001b[0m\u001b[0;34m\u001b[0m\u001b[0;34m\u001b[0m\u001b[0m\n",
      "\u001b[0;32m/shared-libs/python3.7/py/lib/python3.7/site-packages/urllib3/util/retry.py\u001b[0m in \u001b[0;36msleep_for_retry\u001b[0;34m(self, response)\u001b[0m\n\u001b[1;32m    405\u001b[0m         \u001b[0mretry_after\u001b[0m \u001b[0;34m=\u001b[0m \u001b[0mself\u001b[0m\u001b[0;34m.\u001b[0m\u001b[0mget_retry_after\u001b[0m\u001b[0;34m(\u001b[0m\u001b[0mresponse\u001b[0m\u001b[0;34m)\u001b[0m\u001b[0;34m\u001b[0m\u001b[0;34m\u001b[0m\u001b[0m\n\u001b[1;32m    406\u001b[0m         \u001b[0;32mif\u001b[0m \u001b[0mretry_after\u001b[0m\u001b[0;34m:\u001b[0m\u001b[0;34m\u001b[0m\u001b[0;34m\u001b[0m\u001b[0m\n\u001b[0;32m--> 407\u001b[0;31m             \u001b[0mtime\u001b[0m\u001b[0;34m.\u001b[0m\u001b[0msleep\u001b[0m\u001b[0;34m(\u001b[0m\u001b[0mretry_after\u001b[0m\u001b[0;34m)\u001b[0m\u001b[0;34m\u001b[0m\u001b[0;34m\u001b[0m\u001b[0m\n\u001b[0m\u001b[1;32m    408\u001b[0m             \u001b[0;32mreturn\u001b[0m \u001b[0;32mTrue\u001b[0m\u001b[0;34m\u001b[0m\u001b[0;34m\u001b[0m\u001b[0m\n\u001b[1;32m    409\u001b[0m \u001b[0;34m\u001b[0m\u001b[0m\n",
      "\u001b[0;31mKeyboardInterrupt\u001b[0m: "
     ]
    }
   ]
  },
  {
   "cell_type": "code",
   "metadata": {
    "cell_id": "3fbc309db255407eb7996a5f8544a1b1",
    "tags": [],
    "deepnote_to_be_reexecuted": false,
    "source_hash": "85ac1a84",
    "execution_start": 1648311098435,
    "execution_millis": 7,
    "owner_user_id": "9d557d55-fc23-4c8b-b1ac-104ba3539c98",
    "deepnote_cell_type": "code",
    "deepnote_cell_height": 392.625
   },
   "source": "print(train_metadata_subset)\ntrain_metadata_subset.to_csv(dataf / 'train_metadata_subset.csv', index=False)",
   "execution_count": null,
   "outputs": [
    {
     "name": "stdout",
     "text": "                            image   cultivar\n0    2017-06-16__12-24-20-930.png  PI_257599\n1    2017-06-02__16-48-57-866.png  PI_154987\n2    2017-06-12__13-18-07-707.png   PI_92270\n3    2017-06-22__13-18-06-841.png  PI_152651\n4    2017-06-26__12-56-48-642.png  PI_176766\n..                            ...        ...\n160  2017-06-01__10-41-04-558.png  PI_152751\n161  2017-06-21__11-34-51-977.png  PI_251672\n162  2017-06-02__18-15-54-053.png   PI_52606\n163  2017-06-18__14-41-59-638.png  PI_152771\n164  2017-06-19__15-57-59-480.png  PI_152771\n\n[165 rows x 2 columns]\n",
     "output_type": "stream"
    }
   ]
  },
  {
   "cell_type": "code",
   "metadata": {
    "tags": [],
    "deepnote_to_be_reexecuted": true,
    "source_hash": "b623e53d",
    "cell_id": "00015-e8d20b44-1f4f-44cf-b320-1d618cbd4f5f",
    "deepnote_cell_type": "code",
    "deepnote_cell_height": 81
   },
   "source": "",
   "execution_count": null,
   "outputs": []
  },
  {
   "cell_type": "code",
   "metadata": {
    "cell_id": "1135f6f68a9a4547a276ee7328ff31bb",
    "tags": [],
    "deepnote_cell_type": "code",
    "deepnote_cell_height": 66
   },
   "source": "api.kernels_push('kevinlee333/rookie-draft-0', path='.', metadata=True)",
   "execution_count": null,
   "outputs": []
  },
  {
   "cell_type": "markdown",
   "source": "<a style='text-decoration:none;line-height:16px;display:flex;color:#5B5B62;padding:10px;justify-content:end;' href='https://deepnote.com?utm_source=created-in-deepnote-cell&projectId=d841b2e3-7f2f-42e6-ae8e-6cea1c0a3631' target=\"_blank\">\n<img alt='Created in deepnote.com' style='display:inline;max-height:16px;margin:0px;margin-right:7.5px;' src='data:image/svg+xml;base64,PD94bWwgdmVyc2lvbj0iMS4wIiBlbmNvZGluZz0iVVRGLTgiPz4KPHN2ZyB3aWR0aD0iODBweCIgaGVpZ2h0PSI4MHB4IiB2aWV3Qm94PSIwIDAgODAgODAiIHZlcnNpb249IjEuMSIgeG1sbnM9Imh0dHA6Ly93d3cudzMub3JnLzIwMDAvc3ZnIiB4bWxuczp4bGluaz0iaHR0cDovL3d3dy53My5vcmcvMTk5OS94bGluayI+CiAgICA8IS0tIEdlbmVyYXRvcjogU2tldGNoIDU0LjEgKDc2NDkwKSAtIGh0dHBzOi8vc2tldGNoYXBwLmNvbSAtLT4KICAgIDx0aXRsZT5Hcm91cCAzPC90aXRsZT4KICAgIDxkZXNjPkNyZWF0ZWQgd2l0aCBTa2V0Y2guPC9kZXNjPgogICAgPGcgaWQ9IkxhbmRpbmciIHN0cm9rZT0ibm9uZSIgc3Ryb2tlLXdpZHRoPSIxIiBmaWxsPSJub25lIiBmaWxsLXJ1bGU9ImV2ZW5vZGQiPgogICAgICAgIDxnIGlkPSJBcnRib2FyZCIgdHJhbnNmb3JtPSJ0cmFuc2xhdGUoLTEyMzUuMDAwMDAwLCAtNzkuMDAwMDAwKSI+CiAgICAgICAgICAgIDxnIGlkPSJHcm91cC0zIiB0cmFuc2Zvcm09InRyYW5zbGF0ZSgxMjM1LjAwMDAwMCwgNzkuMDAwMDAwKSI+CiAgICAgICAgICAgICAgICA8cG9seWdvbiBpZD0iUGF0aC0yMCIgZmlsbD0iIzAyNjVCNCIgcG9pbnRzPSIyLjM3NjIzNzYyIDgwIDM4LjA0NzY2NjcgODAgNTcuODIxNzgyMiA3My44MDU3NTkyIDU3LjgyMTc4MjIgMzIuNzU5MjczOSAzOS4xNDAyMjc4IDMxLjY4MzE2ODMiPjwvcG9seWdvbj4KICAgICAgICAgICAgICAgIDxwYXRoIGQ9Ik0zNS4wMDc3MTgsODAgQzQyLjkwNjIwMDcsNzYuNDU0OTM1OCA0Ny41NjQ5MTY3LDcxLjU0MjI2NzEgNDguOTgzODY2LDY1LjI2MTk5MzkgQzUxLjExMjI4OTksNTUuODQxNTg0MiA0MS42NzcxNzk1LDQ5LjIxMjIyODQgMjUuNjIzOTg0Niw0OS4yMTIyMjg0IEMyNS40ODQ5Mjg5LDQ5LjEyNjg0NDggMjkuODI2MTI5Niw0My4yODM4MjQ4IDM4LjY0NzU4NjksMzEuNjgzMTY4MyBMNzIuODcxMjg3MSwzMi41NTQ0MjUgTDY1LjI4MDk3Myw2Ny42NzYzNDIxIEw1MS4xMTIyODk5LDc3LjM3NjE0NCBMMzUuMDA3NzE4LDgwIFoiIGlkPSJQYXRoLTIyIiBmaWxsPSIjMDAyODY4Ij48L3BhdGg+CiAgICAgICAgICAgICAgICA8cGF0aCBkPSJNMCwzNy43MzA0NDA1IEwyNy4xMTQ1MzcsMC4yNTcxMTE0MzYgQzYyLjM3MTUxMjMsLTEuOTkwNzE3MDEgODAsMTAuNTAwMzkyNyA4MCwzNy43MzA0NDA1IEM4MCw2NC45NjA0ODgyIDY0Ljc3NjUwMzgsNzkuMDUwMzQxNCAzNC4zMjk1MTEzLDgwIEM0Ny4wNTUzNDg5LDc3LjU2NzA4MDggNTMuNDE4MjY3Nyw3MC4zMTM2MTAzIDUzLjQxODI2NzcsNTguMjM5NTg4NSBDNTMuNDE4MjY3Nyw0MC4xMjg1NTU3IDM2LjMwMzk1NDQsMzcuNzMwNDQwNSAyNS4yMjc0MTcsMzcuNzMwNDQwNSBDMTcuODQzMDU4NiwzNy43MzA0NDA1IDkuNDMzOTE5NjYsMzcuNzMwNDQwNSAwLDM3LjczMDQ0MDUgWiIgaWQ9IlBhdGgtMTkiIGZpbGw9IiMzNzkzRUYiPjwvcGF0aD4KICAgICAgICAgICAgPC9nPgogICAgICAgIDwvZz4KICAgIDwvZz4KPC9zdmc+' > </img>\nCreated in <span style='font-weight:600;margin-left:4px;'>Deepnote</span></a>",
   "metadata": {
    "tags": [],
    "created_in_deepnote_cell": true,
    "deepnote_cell_type": "markdown"
   }
  }
 ],
 "nbformat": 4,
 "nbformat_minor": 2,
 "metadata": {
  "interpreter": {
   "hash": "2e866f0e2aa140c3884bc029dbe31d56837afa270cbfff6f5c57dbc7b48b8e98"
  },
  "kernelspec": {
   "display_name": "Python 3.9.7 ('base')",
   "language": "python",
   "name": "python3"
  },
  "language_info": {
   "codemirror_mode": {
    "name": "ipython",
    "version": 3
   },
   "file_extension": ".py",
   "mimetype": "text/x-python",
   "name": "python",
   "nbconvert_exporter": "python",
   "pygments_lexer": "ipython3",
   "version": "3.9.7"
  },
  "orig_nbformat": 4,
  "deepnote_notebook_id": "0ad571df-c182-4485-92ad-98614add0865",
  "deepnote": {},
  "deepnote_execution_queue": []
 }
}